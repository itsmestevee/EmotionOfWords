{
 "cells": [
  {
   "cell_type": "code",
   "execution_count": 4,
   "id": "73e46b33-4097-4dcb-a376-ed4d7180613a",
   "metadata": {},
   "outputs": [
    {
     "name": "stderr",
     "output_type": "stream",
     "text": [
      "[nltk_data] Downloading package punkt to\n",
      "[nltk_data]     C:\\Users\\norin\\AppData\\Roaming\\nltk_data...\n",
      "[nltk_data]   Package punkt is already up-to-date!\n"
     ]
    }
   ],
   "source": [
    "import nltk\n",
    "nltk.download('punkt')\n",
    "\n",
    "from nrclex import NRCLex\n",
    "from matplotlib import pyplot as plt"
   ]
  },
  {
   "cell_type": "code",
   "execution_count": 5,
   "id": "e3b858af-7857-4594-aa90-2eecb48ac23f",
   "metadata": {},
   "outputs": [],
   "source": [
    "text = \"It's hard to understand me But I keep my own boundaries Why won't they do the same? I'm tired of being the nice guy I know I shouldn't be The one complaining right now I'm the one who did this to myself I hope you know that I'm going crazy I honestly don't know how much I can take Will you be there for me? When I'm feeling down With the way that you're treating me I honestly don't know I hope you know that I'm going crazy I honestly don't know how much I can take You won't be there for me That much I know I learned that the hard way Hard way to say goodbye Hope you know I held it in As much as I could do? I won't hold back thеse tears tonight All alone to mysеlf I hope you know that I'm going crazy I honestly don't know how much I can take Will you be there for me When I'm feeling down? With the way that you're treating me I honestly don't know I hope you know that I'm going crazy I honestly don't know how much I can take (much I can take) You won't be there for me I know too well No worries, I'll be gone before you know it Know it (know it) Know (know it) Know it I hope you know that I'm crazy?\"\n",
    "\n",
    "emotion = NRCLex(text)"
   ]
  },
  {
   "cell_type": "code",
   "execution_count": 6,
   "id": "a3658f7a-4fdd-40b2-9bd8-9ed3539304d7",
   "metadata": {},
   "outputs": [
    {
     "name": "stdout",
     "output_type": "stream",
     "text": [
      "['It', \"'s\", 'hard', 'to', 'understand', 'me', 'But', 'I', 'keep', 'my', 'own', 'boundaries', 'Why', 'wo', \"n't\", 'they', 'do', 'the', 'same', 'I', \"'m\", 'tired', 'of', 'being', 'the', 'nice', 'guy', 'I', 'know', 'I', 'should', \"n't\", 'be', 'The', 'one', 'complaining', 'right', 'now', 'I', \"'m\", 'the', 'one', 'who', 'did', 'this', 'to', 'myself', 'I', 'hope', 'you', 'know', 'that', 'I', \"'m\", 'going', 'crazy', 'I', 'honestly', 'do', \"n't\", 'know', 'how', 'much', 'I', 'can', 'take', 'Will', 'you', 'be', 'there', 'for', 'me', 'When', 'I', \"'m\", 'feeling', 'down', 'With', 'the', 'way', 'that', 'you', \"'re\", 'treating', 'me', 'I', 'honestly', 'do', \"n't\", 'know', 'I', 'hope', 'you', 'know', 'that', 'I', \"'m\", 'going', 'crazy', 'I', 'honestly', 'do', \"n't\", 'know', 'how', 'much', 'I', 'can', 'take', 'You', 'wo', \"n't\", 'be', 'there', 'for', 'me', 'That', 'much', 'I', 'know', 'I', 'learned', 'that', 'the', 'hard', 'way', 'Hard', 'way', 'to', 'say', 'goodbye', 'Hope', 'you', 'know', 'I', 'held', 'it', 'in', 'As', 'much', 'as', 'I', 'could', 'do', 'I', 'wo', \"n't\", 'hold', 'back', 'thеse', 'tears', 'tonight', 'All', 'alone', 'to', 'mysеlf', 'I', 'hope', 'you', 'know', 'that', 'I', \"'m\", 'going', 'crazy', 'I', 'honestly', 'do', \"n't\", 'know', 'how', 'much', 'I', 'can', 'take', 'Will', 'you', 'be', 'there', 'for', 'me', 'When', 'I', \"'m\", 'feeling', 'down', 'With', 'the', 'way', 'that', 'you', \"'re\", 'treating', 'me', 'I', 'honestly', 'do', \"n't\", 'know', 'I', 'hope', 'you', 'know', 'that', 'I', \"'m\", 'going', 'crazy', 'I', 'honestly', 'do', \"n't\", 'know', 'how', 'much', 'I', 'can', 'take', 'much', 'I', 'can', 'take', 'You', 'wo', \"n't\", 'be', 'there', 'for', 'me', 'I', 'know', 'too', 'well', 'No', 'worries', 'I', \"'ll\", 'be', 'gone', 'before', 'you', 'know', 'it', 'Know', 'it', 'know', 'it', 'Know', 'know', 'it', 'Know', 'it', 'I', 'hope', 'you', 'know', 'that', 'I', \"'m\", 'crazy']\n"
     ]
    }
   ],
   "source": [
    "print(emotion.words)"
   ]
  },
  {
   "cell_type": "code",
   "execution_count": 7,
   "id": "47117622-cda8-41fd-bba9-329b03061cd4",
   "metadata": {},
   "outputs": [
    {
     "name": "stdout",
     "output_type": "stream",
     "text": [
      "{'tired': ['negative'], 'hope': ['anticipation', 'joy', 'positive', 'surprise', 'trust'], 'crazy': ['anger', 'fear', 'negative', 'sadness'], 'feeling': ['anger', 'anticipation', 'disgust', 'fear', 'joy', 'negative', 'positive', 'sadness', 'surprise', 'trust']}\n"
     ]
    }
   ],
   "source": [
    "print(emotion.affect_dict)"
   ]
  },
  {
   "cell_type": "code",
   "execution_count": 8,
   "id": "3b3e65bd-b56e-4014-9b9a-069ea26e2532",
   "metadata": {},
   "outputs": [
    {
     "name": "stdout",
     "output_type": "stream",
     "text": [
      "{'negative': 8, 'anticipation': 7, 'joy': 7, 'positive': 7, 'surprise': 7, 'trust': 7, 'anger': 7, 'fear': 7, 'sadness': 7, 'disgust': 2}\n"
     ]
    }
   ],
   "source": [
    "print(emotion.raw_emotion_scores)"
   ]
  },
  {
   "cell_type": "code",
   "execution_count": 9,
   "id": "d263ed5c-2e1a-44bf-a7c0-26695fea8edb",
   "metadata": {},
   "outputs": [
    {
     "data": {
      "text/plain": [
       "{'negative': 8,\n",
       " 'anticipation': 7,\n",
       " 'joy': 7,\n",
       " 'positive': 7,\n",
       " 'surprise': 7,\n",
       " 'trust': 7,\n",
       " 'anger': 7,\n",
       " 'fear': 7,\n",
       " 'sadness': 7,\n",
       " 'disgust': 2}"
      ]
     },
     "execution_count": 9,
     "metadata": {},
     "output_type": "execute_result"
    }
   ],
   "source": [
    "emotion_data = emotion.raw_emotion_scores\n",
    "emotion_data"
   ]
  },
  {
   "cell_type": "code",
   "execution_count": 10,
   "id": "a7ffa29b-e669-4b39-9b15-bce3903ec584",
   "metadata": {},
   "outputs": [
    {
     "data": {
      "text/plain": [
       "{'Negative': 8,\n",
       " 'Anticipation': 7,\n",
       " 'Joy': 7,\n",
       " 'Positive': 7,\n",
       " 'Surprise': 7,\n",
       " 'Trust': 7,\n",
       " 'Anger': 7,\n",
       " 'Fear': 7,\n",
       " 'Sadness': 7,\n",
       " 'Disgust': 2}"
      ]
     },
     "execution_count": 10,
     "metadata": {},
     "output_type": "execute_result"
    }
   ],
   "source": [
    "emotion_data = {key.capitalize(): value for key, value in emotion_data.items()}\n",
    "emotion_data"
   ]
  },
  {
   "cell_type": "code",
   "execution_count": 12,
   "id": "5d421d19-19d9-4249-b1dc-4f4a6259a695",
   "metadata": {},
   "outputs": [
    {
     "name": "stdout",
     "output_type": "stream",
     "text": [
      "['Negative', 'Anticipation', 'Joy', 'Positive', 'Surprise', 'Trust', 'Anger', 'Fear', 'Sadness', 'Disgust'] [8, 7, 7, 7, 7, 7, 7, 7, 7, 2]\n"
     ]
    }
   ],
   "source": [
    "keys = list(emotion_data.keys())\n",
    "values = list(emotion_data.values())\n",
    "\n",
    "print(keys, values)\n"
   ]
  },
  {
   "cell_type": "code",
   "execution_count": 13,
   "id": "515f544f-7237-4ad9-b3d5-282592bc37a6",
   "metadata": {},
   "outputs": [
    {
     "data": {
      "image/png": "[encoded data removed]",
      "text/plain": [
       "<Figure size 1100x500 with 1 Axes>"
      ]
     },
     "metadata": {},
     "output_type": "display_data"
    }
   ],
   "source": [
    "plt.figure(figsize=(11,5)) # fix graph size\n",
    "plt.bar(keys, values)\n",
    "#rotation a graph title\n",
    "# plt.xticks(rotation=45) \n",
    "plt.show()"
   ]
  },
  {
   "cell_type": "code",
   "execution_count": null,
   "id": "c1647d7f-8853-4986-bb70-85c215c7dd95",
   "metadata": {},
   "outputs": [],
   "source": []
  }
 ],
 "metadata": {
  "kernelspec": {
   "display_name": "Python 3 (ipykernel)",
   "language": "python",
   "name": "python3"
  },
  "language_info": {
   "codemirror_mode": {
    "name": "ipython",
    "version": 3
   },
   "file_extension": ".py",
   "mimetype": "text/x-python",
   "name": "python",
   "nbconvert_exporter": "python",
   "pygments_lexer": "ipython3",
   "version": "3.12.4"
  }
 },
 "nbformat": 4,
 "nbformat_minor": 5
}
